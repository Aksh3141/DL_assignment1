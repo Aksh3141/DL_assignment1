{
  "nbformat": 4,
  "nbformat_minor": 0,
  "metadata": {
    "colab": {
      "provenance": []
    },
    "kernelspec": {
      "name": "python3",
      "display_name": "Python 3"
    },
    "language_info": {
      "name": "python"
    }
  },
  "cells": [
    {
      "cell_type": "code",
      "execution_count": 1,
      "metadata": {
        "id": "xdaLjzfVpCCl"
      },
      "outputs": [],
      "source": [
        "import torch\n",
        "import torch.nn as nn\n",
        "import torch.optim as optim\n",
        "import torchvision\n",
        "from torchvision import datasets, models, transforms"
      ]
    },
    {
      "cell_type": "code",
      "source": [
        "device = torch.device(\"cuda:0\" if torch.cuda.is_available() else \"cpu\")"
      ],
      "metadata": {
        "id": "RChaGWuPsel3"
      },
      "execution_count": 2,
      "outputs": []
    },
    {
      "cell_type": "markdown",
      "source": [
        "<b> Loading and Transforming data </b>"
      ],
      "metadata": {
        "id": "2XSBpYBzvkzv"
      }
    },
    {
      "cell_type": "code",
      "source": [
        "transform = transforms.Compose([\n",
        "    transforms.Resize((32, 32)),\n",
        "    transforms.ToTensor(),\n",
        "    transforms.Normalize((0.5, 0.5, 0.5), (0.5, 0.5, 0.5))\n",
        "])\n",
        "\n",
        "train_data = datasets.SVHN(root='./data', split='train', download=True, transform=transform)\n",
        "test_data = datasets.SVHN(root='./data', split='test', download=True, transform=transform)\n",
        "\n",
        "train_loader = torch.utils.data.DataLoader(train_data, batch_size=64, shuffle=True)\n",
        "test_loader = torch.utils.data.DataLoader(test_data, batch_size=64, shuffle=False)"
      ],
      "metadata": {
        "colab": {
          "base_uri": "https://localhost:8080/"
        },
        "id": "I3ia56N8pvYh",
        "outputId": "79e5df12-3fd1-42ac-c001-55e2843fa863"
      },
      "execution_count": 3,
      "outputs": [
        {
          "output_type": "stream",
          "name": "stdout",
          "text": [
            "Downloading http://ufldl.stanford.edu/housenumbers/train_32x32.mat to ./data/train_32x32.mat\n"
          ]
        },
        {
          "output_type": "stream",
          "name": "stderr",
          "text": [
            "100%|██████████| 182040794/182040794 [00:46<00:00, 3942452.61it/s]\n"
          ]
        },
        {
          "output_type": "stream",
          "name": "stdout",
          "text": [
            "Downloading http://ufldl.stanford.edu/housenumbers/test_32x32.mat to ./data/test_32x32.mat\n"
          ]
        },
        {
          "output_type": "stream",
          "name": "stderr",
          "text": [
            "100%|██████████| 64275384/64275384 [00:20<00:00, 3103843.35it/s]\n"
          ]
        }
      ]
    },
    {
      "cell_type": "markdown",
      "source": [
        "<b>Defining LeNet5 Architecture </b>"
      ],
      "metadata": {
        "id": "Z44DhxkovrVc"
      }
    },
    {
      "cell_type": "code",
      "source": [
        "class LeNet5(nn.Module):\n",
        "    def __init__(self, num_classes=10):\n",
        "        super(LeNet5, self).__init__()\n",
        "        self.features = nn.Sequential(\n",
        "            nn.Conv2d(3, 6, kernel_size=5),\n",
        "            nn.ReLU(inplace=True),\n",
        "            nn.MaxPool2d(kernel_size=2, stride=2),\n",
        "            nn.Conv2d(6, 16, kernel_size=5),\n",
        "            nn.ReLU(inplace=True),\n",
        "            nn.MaxPool2d(kernel_size=2, stride=2)\n",
        "        )\n",
        "        self.classifier = nn.Sequential(\n",
        "            nn.Linear(16*5*5, 120),\n",
        "            nn.ReLU(inplace=True),\n",
        "            nn.Linear(120, 84),\n",
        "            nn.ReLU(inplace=True),\n",
        "            nn.Linear(84, num_classes)\n",
        "        )\n",
        "\n",
        "    def forward(self, x):\n",
        "        x = self.features(x)\n",
        "        x = torch.flatten(x, 1)\n",
        "        x = self.classifier(x)\n",
        "        return x"
      ],
      "metadata": {
        "id": "lENDhGu8qvBd"
      },
      "execution_count": 4,
      "outputs": []
    },
    {
      "cell_type": "markdown",
      "source": [
        "<b> Defining AlexNet Architecture </b>"
      ],
      "metadata": {
        "id": "deyGowQUv22o"
      }
    },
    {
      "cell_type": "code",
      "source": [
        "class AlexNet(nn.Module):\n",
        "    def __init__(self, num_classes=1000):\n",
        "        super(AlexNet, self).__init__()\n",
        "        self.features = models.alexnet(pretrained=False).features\n",
        "        self.avgpool = nn.AdaptiveAvgPool2d((6, 6))\n",
        "        self.classifier = nn.Sequential(\n",
        "            nn.Dropout(),\n",
        "            nn.Linear(256 * 6 * 6, 4096),\n",
        "            nn.ReLU(inplace=True),\n",
        "            nn.Dropout(),\n",
        "            nn.Linear(4096, 4096),\n",
        "            nn.ReLU(inplace=True),\n",
        "            nn.Linear(4096, num_classes),\n",
        "        )\n",
        "\n",
        "    def forward(self, x):\n",
        "        x = self.features(x)\n",
        "        x = self.avgpool(x)\n",
        "        x = torch.flatten(x, 1)\n",
        "        x = self.classifier(x)\n",
        "        return x"
      ],
      "metadata": {
        "id": "0F8bFqUQvKYo"
      },
      "execution_count": 5,
      "outputs": []
    },
    {
      "cell_type": "markdown",
      "source": [
        "<b> Loading Pretrained Weights </b>"
      ],
      "metadata": {
        "id": "sTBGbHOYzWl0"
      }
    },
    {
      "cell_type": "code",
      "source": [
        "models_list = {\n",
        "    \"LeNet-5\": LeNet5,\n",
        "    \"AlexNet\": AlexNet,\n",
        "    \"VGG\": models.vgg16,\n",
        "    \"ResNet-18\": models.resnet18,\n",
        "    \"ResNet-50\": models.resnet50,\n",
        "    \"ResNet-101\": models.resnet101\n",
        "}\n",
        "\n",
        "def load_pretrained_weights(model_name):\n",
        "    if model_name == \"LeNet-5\":\n",
        "        return LeNet5().to(device)\n",
        "    elif model_name == \"AlexNet\":\n",
        "        model = AlexNet(num_classes=10)\n",
        "        pretrained_dict = models.alexnet(pretrained=True).state_dict()\n",
        "        model_dict = model.state_dict()\n",
        "        pretrained_dict = {k: v for k, v in pretrained_dict.items() if k in model_dict}\n",
        "        # Update the state dict\n",
        "        model_dict.update(pretrained_dict)\n",
        "        # Load the updated state dict\n",
        "        model.load_state_dict(model_dict)\n",
        "        return model.to(device)\n",
        "    else:\n",
        "        model = models_list[model_name](pretrained=True)\n",
        "        # Replace the last layer with custom output layer to match SVHN\n",
        "        if \"ResNet\" in model_name:\n",
        "            num_ftrs = model.fc.in_features\n",
        "            model.fc = nn.Linear(num_ftrs, 10)\n",
        "        else:\n",
        "            num_ftrs = model.classifier[-1].in_features\n",
        "            model.classifier[-1] = nn.Linear(num_ftrs, 10)\n",
        "        return model.to(device)"
      ],
      "metadata": {
        "id": "ql-cI61NqRZN"
      },
      "execution_count": 6,
      "outputs": []
    },
    {
      "cell_type": "code",
      "source": [
        "def train_model(model, criterion, optimizer, num_epochs=5):\n",
        "    for epoch in range(num_epochs):\n",
        "        model.train()\n",
        "        running_loss = 0.0\n",
        "        correct = 0\n",
        "        total = 0\n",
        "\n",
        "        for inputs, labels in train_loader:\n",
        "            inputs, labels = inputs.to(device), labels.to(device)\n",
        "            optimizer.zero_grad()\n",
        "            outputs = model(inputs)\n",
        "            loss = criterion(outputs, labels)\n",
        "            loss.backward()\n",
        "            optimizer.step()\n",
        "\n",
        "            running_loss += loss.item()\n",
        "            _, predicted = outputs.max(1)\n",
        "            total += labels.size(0)\n",
        "            correct += predicted.eq(labels).sum().item()\n",
        "\n",
        "        train_loss = running_loss / len(train_loader)\n",
        "        train_accuracy = correct / total\n",
        "\n",
        "        print(f\"Epoch {epoch+1}/{num_epochs}, Train Loss: {train_loss:.4f}, Train Accuracy: {100*train_accuracy:.2f}%\")\n"
      ],
      "metadata": {
        "id": "VF3wgoKAq-Ot"
      },
      "execution_count": 7,
      "outputs": []
    },
    {
      "cell_type": "code",
      "source": [
        "def test_model(model):\n",
        "    model.eval()\n",
        "    correct = 0\n",
        "    total = 0\n",
        "    with torch.no_grad():\n",
        "        for inputs, labels in test_loader:\n",
        "            inputs, labels = inputs.to(device), labels.to(device)\n",
        "            outputs = model(inputs)\n",
        "            _, predicted = outputs.max(1)\n",
        "            total += labels.size(0)\n",
        "            correct += predicted.eq(labels).sum().item()\n",
        "\n",
        "    test_accuracy = correct / total\n",
        "    print(f\"Test Accuracy: {100*test_accuracy:.2f}%\")"
      ],
      "metadata": {
        "id": "e0rGfzEyrtlG"
      },
      "execution_count": 8,
      "outputs": []
    },
    {
      "cell_type": "code",
      "source": [
        "my_list = []\n",
        "for model_name in models_list.keys():\n",
        "    my_list.append(model_name)\n"
      ],
      "metadata": {
        "id": "QSz-oTIErCN7"
      },
      "execution_count": 9,
      "outputs": []
    },
    {
      "cell_type": "markdown",
      "source": [
        "<b>LeNet-5 Model </b>"
      ],
      "metadata": {
        "id": "-z7yTMnlz9Eu"
      }
    },
    {
      "cell_type": "code",
      "source": [
        "model = load_pretrained_weights(my_list[0])\n",
        "criterion = nn.CrossEntropyLoss()\n",
        "optimizer = optim.SGD(model.parameters(), lr=0.001, momentum=0.9)\n",
        "print(f\"Training {my_list[0]}...\")\n",
        "train_model(model, criterion, optimizer)\n",
        "print(f\"Testing {my_list[0]}...\")\n",
        "test_model(model)\n",
        "print()"
      ],
      "metadata": {
        "colab": {
          "base_uri": "https://localhost:8080/"
        },
        "id": "K6Ot_HqXzx0e",
        "outputId": "ae825973-4f10-479b-f0dc-0c990769a6b2"
      },
      "execution_count": 10,
      "outputs": [
        {
          "output_type": "stream",
          "name": "stdout",
          "text": [
            "Training LeNet-5...\n",
            "Epoch 1/5, Train Loss: 2.2543, Train Accuracy: 18.29%\n",
            "Epoch 2/5, Train Loss: 2.2344, Train Accuracy: 18.92%\n",
            "Epoch 3/5, Train Loss: 2.2281, Train Accuracy: 18.96%\n",
            "Epoch 4/5, Train Loss: 2.1598, Train Accuracy: 22.71%\n",
            "Epoch 5/5, Train Loss: 1.4755, Train Accuracy: 51.93%\n",
            "Testing LeNet-5...\n",
            "Test Accuracy: 69.94%\n",
            "\n"
          ]
        }
      ]
    },
    {
      "cell_type": "markdown",
      "source": [
        "<b>VGG Model</b>"
      ],
      "metadata": {
        "id": "7Ea-JvBZI1Pf"
      }
    },
    {
      "cell_type": "code",
      "source": [
        "model = load_pretrained_weights(my_list[2])\n",
        "criterion = nn.CrossEntropyLoss()\n",
        "optimizer = optim.SGD(model.parameters(), lr=0.001, momentum=0.9)\n",
        "print(f\"Training {my_list[2]}...\")\n",
        "train_model(model, criterion, optimizer)\n",
        "print(f\"Testing {my_list[2]}...\")\n",
        "test_model(model)\n",
        "print()"
      ],
      "metadata": {
        "colab": {
          "base_uri": "https://localhost:8080/"
        },
        "id": "oDI-vUlt1zb5",
        "outputId": "c41a3da0-6312-4305-835a-46dc57c43270"
      },
      "execution_count": null,
      "outputs": [
        {
          "metadata": {
            "tags": null
          },
          "name": "stdout",
          "output_type": "stream",
          "text": [
            "Training VGG...\n"
          ]
        }
      ]
    },
    {
      "cell_type": "markdown",
      "source": [
        "<b>AlexNet Model</b>"
      ],
      "metadata": {
        "id": "-tz18Pw4JFM2"
      }
    },
    {
      "cell_type": "code",
      "source": [
        "model = load_pretrained_weights(my_list[1])\n",
        "criterion = nn.CrossEntropyLoss()\n",
        "optimizer = optim.SGD(model.parameters(), lr=0.001, momentum=0.9)\n",
        "print(f\"Training {my_list[1]}...\")\n",
        "train_model(model, criterion, optimizer)\n",
        "print(f\"Testing {my_list[1]}...\")\n",
        "test_model(model)\n",
        "print()"
      ],
      "metadata": {
        "id": "wyL7cwM_JAAJ"
      },
      "execution_count": null,
      "outputs": []
    },
    {
      "cell_type": "markdown",
      "source": [
        "<b>Resnet 18</b>"
      ],
      "metadata": {
        "id": "qb0_QRkvJSbj"
      }
    },
    {
      "cell_type": "code",
      "source": [
        "model = load_pretrained_weights(my_list[3])\n",
        "criterion = nn.CrossEntropyLoss()\n",
        "optimizer = optim.SGD(model.parameters(), lr=0.001, momentum=0.9)\n",
        "print(f\"Training {my_list[3]}...\")\n",
        "train_model(model, criterion, optimizer)\n",
        "print(f\"Testing {my_list[3]}...\")\n",
        "test_model(model)\n",
        "print()"
      ],
      "metadata": {
        "id": "dvFHOaOJJnoV"
      },
      "execution_count": null,
      "outputs": []
    },
    {
      "cell_type": "markdown",
      "source": [
        "<b>Resnet 50</b>"
      ],
      "metadata": {
        "id": "StuJqnf7JxQD"
      }
    },
    {
      "cell_type": "code",
      "source": [
        "model = load_pretrained_weights(my_list[4])\n",
        "criterion = nn.CrossEntropyLoss()\n",
        "optimizer = optim.SGD(model.parameters(), lr=0.001, momentum=0.9)\n",
        "print(f\"Training {my_list[4]}...\")\n",
        "train_model(model, criterion, optimizer)\n",
        "print(f\"Testing {my_list[4]}...\")\n",
        "test_model(model)\n",
        "print()"
      ],
      "metadata": {
        "id": "OjZRwI-iJ553"
      },
      "execution_count": null,
      "outputs": []
    },
    {
      "cell_type": "markdown",
      "source": [
        "<b>Resnet 100</b>"
      ],
      "metadata": {
        "id": "6LGcGkVTJ-Uc"
      }
    },
    {
      "cell_type": "code",
      "source": [
        "model = load_pretrained_weights(my_list[5])\n",
        "criterion = nn.CrossEntropyLoss()\n",
        "optimizer = optim.SGD(model.parameters(), lr=0.001, momentum=0.9)\n",
        "print(f\"Training {my_list[5]}...\")\n",
        "train_model(model, criterion, optimizer)\n",
        "print(f\"Testing {my_list[5]}...\")\n",
        "test_model(model)\n",
        "print()"
      ],
      "metadata": {
        "id": "7MvnNujRKBUB"
      },
      "execution_count": null,
      "outputs": []
    }
  ]
}